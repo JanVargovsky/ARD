{
 "cells": [
  {
   "cell_type": "markdown",
   "metadata": {},
   "source": [
    "# Poker Hand Data Set \n",
    "Source: https://archive.ics.uci.edu/ml/datasets/Poker+Hand"
   ]
  },
  {
   "cell_type": "code",
   "execution_count": 16,
   "metadata": {},
   "outputs": [
    {
     "name": "stdout",
     "output_type": "stream",
     "text": [
      "1.11.0\n"
     ]
    }
   ],
   "source": [
    "import tensorflow as tf\n",
    "from tensorflow import keras\n",
    "import numpy as np\n",
    "import matplotlib.pyplot as plt\n",
    "\n",
    "print(tf.__version__)"
   ]
  },
  {
   "cell_type": "code",
   "execution_count": 17,
   "metadata": {},
   "outputs": [],
   "source": [
    "plt.style.use('ggplot')"
   ]
  },
  {
   "cell_type": "code",
   "execution_count": 87,
   "metadata": {},
   "outputs": [],
   "source": [
    "train = np.loadtxt('poker-hand-training-true.data', delimiter=',', dtype=int)\n",
    "train_x = train[:,:10]\n",
    "train_y = train[:,10]\n",
    "\n",
    "test = np.loadtxt('poker-hand-testing.data', delimiter=',', dtype=int)\n",
    "test_x = test[:,:10]\n",
    "test_y = test[:,10]"
   ]
  },
  {
   "cell_type": "code",
   "execution_count": 21,
   "metadata": {},
   "outputs": [],
   "source": [
    "# S = Suit of card #\n",
    "# C = Rank of card #\n",
    "attribute_names = (\"S1\", \"C1\", \"S2\", \"C2\", \"S3\", \"C3\", \"S4\", \"C4\", \"S5\", \"C5\")\n",
    "class_names = (\"Nothing\", \"One pair\", \"Two pairs\", \"Three of a kind\", \"Straight\", \"Flush\", \"Full house\", \"Four of a kind\", \"Straight flush\", \"Royal flush\")"
   ]
  },
  {
   "cell_type": "code",
   "execution_count": 28,
   "metadata": {},
   "outputs": [
    {
     "name": "stdout",
     "output_type": "stream",
     "text": [
      "(25010, 10)\n",
      "(25010,)\n",
      "(1000000, 10)\n",
      "(1000000,)\n"
     ]
    }
   ],
   "source": [
    "print(train_x.shape)\n",
    "print(train_y.shape)\n",
    "print(test_x.shape)\n",
    "print(test_y.shape)"
   ]
  },
  {
   "cell_type": "code",
   "execution_count": 88,
   "metadata": {},
   "outputs": [
    {
     "data": {
      "text/plain": [
       "(array([1.2493e+04, 1.0599e+04, 1.2060e+03, 5.1300e+02, 9.3000e+01,\n",
       "        5.4000e+01, 3.6000e+01, 6.0000e+00, 5.0000e+00, 5.0000e+00]),\n",
       " array([0. , 0.9, 1.8, 2.7, 3.6, 4.5, 5.4, 6.3, 7.2, 8.1, 9. ]),\n",
       " <a list of 10 Patch objects>)"
      ]
     },
     "execution_count": 88,
     "metadata": {},
     "output_type": "execute_result"
    },
    {
     "data": {
      "image/png": "[encoded data removed]",
      "text/plain": [
       "<matplotlib.figure.Figure at 0x178f9cba0b8>"
      ]
     },
     "metadata": {},
     "output_type": "display_data"
    }
   ],
   "source": [
    "plt.hist(train_y)"
   ]
  },
  {
   "cell_type": "code",
   "execution_count": 89,
   "metadata": {},
   "outputs": [
    {
     "data": {
      "text/plain": [
       "(array([5.01209e+05, 4.22498e+05, 4.76220e+04, 2.11210e+04, 3.88500e+03,\n",
       "        1.99600e+03, 1.42400e+03, 2.30000e+02, 1.20000e+01, 3.00000e+00]),\n",
       " array([0. , 0.9, 1.8, 2.7, 3.6, 4.5, 5.4, 6.3, 7.2, 8.1, 9. ]),\n",
       " <a list of 10 Patch objects>)"
      ]
     },
     "execution_count": 89,
     "metadata": {},
     "output_type": "execute_result"
    },
    {
     "data": {
      "image/png": "[encoded data removed]",
      "text/plain": [
       "<matplotlib.figure.Figure at 0x178f2db72b0>"
      ]
     },
     "metadata": {},
     "output_type": "display_data"
    }
   ],
   "source": [
    "plt.hist(test_y)"
   ]
  },
  {
   "cell_type": "code",
   "execution_count": 156,
   "metadata": {},
   "outputs": [],
   "source": [
    "# preprocessing"
   ]
  },
  {
   "cell_type": "code",
   "execution_count": 225,
   "metadata": {},
   "outputs": [
    {
     "name": "stdout",
     "output_type": "stream",
     "text": [
      "_________________________________________________________________\n",
      "Layer (type)                 Output Shape              Param #   \n",
      "=================================================================\n",
      "dense_100 (Dense)            (None, 256)               2816      \n",
      "_________________________________________________________________\n",
      "dense_101 (Dense)            (None, 256)               65792     \n",
      "_________________________________________________________________\n",
      "dense_102 (Dense)            (None, 10)                2570      \n",
      "=================================================================\n",
      "Total params: 71,178\n",
      "Trainable params: 71,178\n",
      "Non-trainable params: 0\n",
      "_________________________________________________________________\n"
     ]
    }
   ],
   "source": [
    "# prepare mdoel\n",
    "model = keras.Sequential([\n",
    "    keras.layers.Dense(256, input_shape=train_x.shape[1:], activation=tf.nn.relu),\n",
    "    keras.layers.Dense(256, activation=tf.nn.relu),\n",
    "    keras.layers.Dense(len(class_names), activation=tf.nn.softmax)\n",
    "])\n",
    "model.summary()"
   ]
  },
  {
   "cell_type": "code",
   "execution_count": 226,
   "metadata": {},
   "outputs": [],
   "source": [
    "# compile model\n",
    "model.compile(optimizer=tf.train.AdamOptimizer(),\n",
    "              loss='sparse_categorical_crossentropy',\n",
    "              metrics=['accuracy'])"
   ]
  },
  {
   "cell_type": "code",
   "execution_count": 227,
   "metadata": {},
   "outputs": [
    {
     "name": "stdout",
     "output_type": "stream",
     "text": [
      "Epoch 1/75\n",
      "25010/25010 [==============================] - 5s 199us/step - loss: 1.0079 - acc: 0.5089\n",
      "Epoch 2/75\n",
      "25010/25010 [==============================] - 4s 175us/step - loss: 0.9609 - acc: 0.5393\n",
      "Epoch 3/75\n",
      "25010/25010 [==============================] - 5s 193us/step - loss: 0.9510 - acc: 0.5471\n",
      "Epoch 4/75\n",
      "25010/25010 [==============================] - 5s 191us/step - loss: 0.9406 - acc: 0.5573\n",
      "Epoch 5/75\n",
      "25010/25010 [==============================] - 5s 185us/step - loss: 0.9317 - acc: 0.5627\n",
      "Epoch 6/75\n",
      "25010/25010 [==============================] - 4s 178us/step - loss: 0.9213 - acc: 0.5682\n",
      "Epoch 7/75\n",
      "25010/25010 [==============================] - 4s 178us/step - loss: 0.9098 - acc: 0.5737\n",
      "Epoch 8/75\n",
      "25010/25010 [==============================] - 4s 175us/step - loss: 0.8950 - acc: 0.5862\n",
      "Epoch 9/75\n",
      "25010/25010 [==============================] - 5s 186us/step - loss: 0.8781 - acc: 0.5974\n",
      "Epoch 10/75\n",
      "25010/25010 [==============================] - 5s 188us/step - loss: 0.8535 - acc: 0.6125\n",
      "Epoch 11/75\n",
      "25010/25010 [==============================] - 5s 211us/step - loss: 0.8303 - acc: 0.6295\n",
      "Epoch 12/75\n",
      "25010/25010 [==============================] - 5s 192us/step - loss: 0.8021 - acc: 0.6462\n",
      "Epoch 13/75\n",
      "25010/25010 [==============================] - 5s 214us/step - loss: 0.7754 - acc: 0.6663\n",
      "Epoch 14/75\n",
      "25010/25010 [==============================] - 5s 197us/step - loss: 0.7409 - acc: 0.6858\n",
      "Epoch 15/75\n",
      "25010/25010 [==============================] - 5s 191us/step - loss: 0.7082 - acc: 0.7036\n",
      "Epoch 16/75\n",
      "25010/25010 [==============================] - 6s 249us/step - loss: 0.6756 - acc: 0.7196\n",
      "Epoch 17/75\n",
      "25010/25010 [==============================] - 5s 191us/step - loss: 0.6499 - acc: 0.7304\n",
      "Epoch 18/75\n",
      "25010/25010 [==============================] - 5s 190us/step - loss: 0.6169 - acc: 0.7474\n",
      "Epoch 19/75\n",
      "25010/25010 [==============================] - 5s 188us/step - loss: 0.5891 - acc: 0.7609\n",
      "Epoch 20/75\n",
      "25010/25010 [==============================] - 5s 197us/step - loss: 0.5683 - acc: 0.7684\n",
      "Epoch 21/75\n",
      "25010/25010 [==============================] - 5s 212us/step - loss: 0.5351 - acc: 0.7808\n",
      "Epoch 22/75\n",
      "25010/25010 [==============================] - 5s 189us/step - loss: 0.5112 - acc: 0.7915\n",
      "Epoch 23/75\n",
      "25010/25010 [==============================] - 5s 181us/step - loss: 0.4847 - acc: 0.8045\n",
      "Epoch 24/75\n",
      "25010/25010 [==============================] - 5s 211us/step - loss: 0.4609 - acc: 0.8142\n",
      "Epoch 25/75\n",
      "25010/25010 [==============================] - 5s 184us/step - loss: 0.4305 - acc: 0.8305\n",
      "Epoch 26/75\n",
      "25010/25010 [==============================] - 5s 180us/step - loss: 0.4118 - acc: 0.8376\n",
      "Epoch 27/75\n",
      "25010/25010 [==============================] - 5s 182us/step - loss: 0.3835 - acc: 0.8521\n",
      "Epoch 28/75\n",
      "25010/25010 [==============================] - 5s 185us/step - loss: 0.3584 - acc: 0.8635\n",
      "Epoch 29/75\n",
      "25010/25010 [==============================] - 5s 200us/step - loss: 0.3324 - acc: 0.8778\n",
      "Epoch 30/75\n",
      "25010/25010 [==============================] - 5s 197us/step - loss: 0.3137 - acc: 0.8854\n",
      "Epoch 31/75\n",
      "25010/25010 [==============================] - 5s 201us/step - loss: 0.2857 - acc: 0.8974\n",
      "Epoch 32/75\n",
      "25010/25010 [==============================] - 5s 201us/step - loss: 0.2647 - acc: 0.9076\n",
      "Epoch 33/75\n",
      "25010/25010 [==============================] - 5s 206us/step - loss: 0.2504 - acc: 0.9138\n",
      "Epoch 34/75\n",
      "25010/25010 [==============================] - 6s 225us/step - loss: 0.2238 - acc: 0.9244\n",
      "Epoch 35/75\n",
      "25010/25010 [==============================] - 5s 202us/step - loss: 0.2069 - acc: 0.9320\n",
      "Epoch 36/75\n",
      "25010/25010 [==============================] - 5s 187us/step - loss: 0.1992 - acc: 0.9348\n",
      "Epoch 37/75\n",
      "25010/25010 [==============================] - 5s 185us/step - loss: 0.1774 - acc: 0.9425\n",
      "Epoch 38/75\n",
      "25010/25010 [==============================] - 5s 189us/step - loss: 0.1635 - acc: 0.9484\n",
      "Epoch 39/75\n",
      "25010/25010 [==============================] - 5s 199us/step - loss: 0.1527 - acc: 0.9547\n",
      "Epoch 40/75\n",
      "25010/25010 [==============================] - 5s 219us/step - loss: 0.1449 - acc: 0.9566\n",
      "Epoch 41/75\n",
      "25010/25010 [==============================] - 5s 199us/step - loss: 0.1332 - acc: 0.9596\n",
      "Epoch 42/75\n",
      "25010/25010 [==============================] - 5s 213us/step - loss: 0.1262 - acc: 0.9613\n",
      "Epoch 43/75\n",
      "25010/25010 [==============================] - 5s 203us/step - loss: 0.1117 - acc: 0.9685\n",
      "Epoch 44/75\n",
      "25010/25010 [==============================] - 5s 215us/step - loss: 0.0978 - acc: 0.9728\n",
      "Epoch 45/75\n",
      "25010/25010 [==============================] - 6s 232us/step - loss: 0.1090 - acc: 0.9689\n",
      "Epoch 46/75\n",
      "25010/25010 [==============================] - 6s 232us/step - loss: 0.0998 - acc: 0.9708\n",
      "Epoch 47/75\n",
      "25010/25010 [==============================] - 6s 227us/step - loss: 0.0768 - acc: 0.9790\n",
      "Epoch 48/75\n",
      "25010/25010 [==============================] - 5s 190us/step - loss: 0.0943 - acc: 0.9733\n",
      "Epoch 49/75\n",
      "25010/25010 [==============================] - 4s 172us/step - loss: 0.0671 - acc: 0.9829\n",
      "Epoch 50/75\n",
      "25010/25010 [==============================] - 4s 156us/step - loss: 0.0662 - acc: 0.9826\n",
      "Epoch 51/75\n",
      "25010/25010 [==============================] - 5s 204us/step - loss: 0.0759 - acc: 0.9786\n",
      "Epoch 52/75\n",
      "25010/25010 [==============================] - 5s 192us/step - loss: 0.0680 - acc: 0.9822\n",
      "Epoch 53/75\n",
      "25010/25010 [==============================] - 4s 167us/step - loss: 0.0703 - acc: 0.9807\n",
      "Epoch 54/75\n",
      "25010/25010 [==============================] - 4s 172us/step - loss: 0.0660 - acc: 0.9816\n",
      "Epoch 55/75\n",
      "25010/25010 [==============================] - 4s 164us/step - loss: 0.0511 - acc: 0.9868\n",
      "Epoch 56/75\n",
      "25010/25010 [==============================] - 4s 176us/step - loss: 0.0555 - acc: 0.9845\n",
      "Epoch 57/75\n",
      "25010/25010 [==============================] - 4s 153us/step - loss: 0.0492 - acc: 0.9871\n",
      "Epoch 58/75\n",
      "25010/25010 [==============================] - 4s 168us/step - loss: 0.0548 - acc: 0.9848\n",
      "Epoch 59/75\n",
      "25010/25010 [==============================] - 4s 162us/step - loss: 0.0653 - acc: 0.9824\n",
      "Epoch 60/75\n",
      "25010/25010 [==============================] - 4s 150us/step - loss: 0.0290 - acc: 0.9940\n",
      "Epoch 61/75\n",
      "25010/25010 [==============================] - 4s 153us/step - loss: 0.0416 - acc: 0.9899\n",
      "Epoch 62/75\n",
      "25010/25010 [==============================] - 4s 161us/step - loss: 0.0420 - acc: 0.9884\n",
      "Epoch 63/75\n",
      "25010/25010 [==============================] - 4s 150us/step - loss: 0.0540 - acc: 0.9850\n",
      "Epoch 64/75\n",
      "25010/25010 [==============================] - 4s 159us/step - loss: 0.0226 - acc: 0.9960\n",
      "Epoch 65/75\n",
      "25010/25010 [==============================] - 4s 141us/step - loss: 0.0560 - acc: 0.9840\n",
      "Epoch 66/75\n",
      "25010/25010 [==============================] - 3s 137us/step - loss: 0.0181 - acc: 0.9965\n",
      "Epoch 67/75\n",
      "25010/25010 [==============================] - 4s 141us/step - loss: 0.0414 - acc: 0.9887\n",
      "Epoch 68/75\n",
      "25010/25010 [==============================] - 4s 155us/step - loss: 0.0469 - acc: 0.9878\n",
      "Epoch 69/75\n",
      "25010/25010 [==============================] - 4s 148us/step - loss: 0.0214 - acc: 0.9951\n",
      "Epoch 70/75\n",
      "25010/25010 [==============================] - 4s 147us/step - loss: 0.0425 - acc: 0.9879\n",
      "Epoch 71/75\n",
      "25010/25010 [==============================] - 4s 149us/step - loss: 0.0313 - acc: 0.9923\n",
      "Epoch 72/75\n",
      "25010/25010 [==============================] - 5s 182us/step - loss: 0.0399 - acc: 0.9884\n",
      "Epoch 73/75\n",
      "25010/25010 [==============================] - 4s 156us/step - loss: 0.0121 - acc: 0.9985\n",
      "Epoch 74/75\n",
      "25010/25010 [==============================] - 4s 167us/step - loss: 0.0353 - acc: 0.9905\n",
      "Epoch 75/75\n",
      "25010/25010 [==============================] - 4s 154us/step - loss: 0.0088 - acc: 0.9991\n"
     ]
    },
    {
     "data": {
      "text/plain": [
       "<tensorflow.python.keras.callbacks.History at 0x179070c5160>"
      ]
     },
     "execution_count": 227,
     "metadata": {},
     "output_type": "execute_result"
    }
   ],
   "source": [
    "# evaluate accuracy\n",
    "model.fit(train_x, train_y, epochs=75)"
   ]
  },
  {
   "cell_type": "code",
   "execution_count": 228,
   "metadata": {},
   "outputs": [
    {
     "name": "stdout",
     "output_type": "stream",
     "text": [
      "1000/1000 [==============================] - 0s 435us/step\n",
      "Test accuracy: 0.978\n"
     ]
    }
   ],
   "source": [
    "n = 1000\n",
    "test_loss, test_acc = model.evaluate(test_x[:n], test_y[:n])\n",
    "print('Test accuracy: {}'.format(test_acc))"
   ]
  },
  {
   "cell_type": "code",
   "execution_count": 229,
   "metadata": {},
   "outputs": [
    {
     "name": "stdout",
     "output_type": "stream",
     "text": [
      "1000000/1000000 [==============================] - 93s 93us/step\n",
      "Test accuracy: 0.977016\n"
     ]
    }
   ],
   "source": [
    "test_loss, test_acc = model.evaluate(test_x, test_y)\n",
    "print('Test accuracy: {}'.format(test_acc))"
   ]
  },
  {
   "cell_type": "code",
   "execution_count": 230,
   "metadata": {},
   "outputs": [],
   "source": [
    "predictions = model.predict(test_x[:1000])"
   ]
  },
  {
   "cell_type": "code",
   "execution_count": 238,
   "metadata": {},
   "outputs": [],
   "source": [
    "def plot_predictions(i, predictions, labels):\n",
    "    plot = plt.bar(range(len(class_names)), predictions[0], color=\"black\")\n",
    "    plt.ylim([0, 1])\n",
    "    \n",
    "    correct_label = labels[i]\n",
    "    predicted_label = np.argmax(predictions[i])\n",
    "    plot[predicted_label].set_color('red')\n",
    "    plot[correct_label].set_color('green')"
   ]
  },
  {
   "cell_type": "code",
   "execution_count": 252,
   "metadata": {},
   "outputs": [
    {
     "data": {
      "image/png": "[encoded data removed]",
      "text/plain": [
       "<matplotlib.figure.Figure at 0x17909c65ba8>"
      ]
     },
     "metadata": {},
     "output_type": "display_data"
    }
   ],
   "source": [
    "plot_predictions(1, predictions, test_y)"
   ]
  }
 ],
 "metadata": {
  "kernelspec": {
   "display_name": "Python 3",
   "language": "python",
   "name": "python3"
  },
  "language_info": {
   "codemirror_mode": {
    "name": "ipython",
    "version": 3
   },
   "file_extension": ".py",
   "mimetype": "text/x-python",
   "name": "python",
   "nbconvert_exporter": "python",
   "pygments_lexer": "ipython3",
   "version": "3.6.6"
  }
 },
 "nbformat": 4,
 "nbformat_minor": 2
}

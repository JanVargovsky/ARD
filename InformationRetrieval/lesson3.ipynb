{
 "cells": [
  {
   "cell_type": "code",
   "execution_count": 46,
   "metadata": {},
   "outputs": [],
   "source": [
    "import numpy as np\n",
    "from PIL import Image\n",
    "import math\n",
    "import sklearn.feature_selection\n",
    "import sklearn.decomposition"
   ]
  },
  {
   "cell_type": "code",
   "execution_count": 28,
   "metadata": {},
   "outputs": [],
   "source": [
    "data = np.loadtxt('data/03-train-x.csv', delimiter=',')"
   ]
  },
  {
   "cell_type": "code",
   "execution_count": 13,
   "metadata": {},
   "outputs": [],
   "source": [
    "def make_image_matrix(rows, cols, images, fileName):\n",
    "    img_height = int(math.sqrt(len(images[0])))\n",
    "    img_width = img_height\n",
    "    mat_width = cols*img_width\n",
    "    mat_height = rows*img_height\n",
    "    matrix = Image.new('L', (mat_width, mat_height))\n",
    "    for row in range(rows):\n",
    "        for col in range(cols):\n",
    "            idx = row*cols + col\n",
    "            data = images[idx].astype(np.int32)\n",
    "            data = data.reshape((img_height, img_width), order='F')\n",
    "            img = Image.fromarray(data, mode='I')\n",
    "            matrix.paste(img, box=(col*img_width, row*img_height))\n",
    "    matrix.save(fileName)"
   ]
  },
  {
   "cell_type": "code",
   "execution_count": 19,
   "metadata": {},
   "outputs": [],
   "source": [
    "make_image_matrix(10, 10, data, \"letters.png\")"
   ]
  },
  {
   "cell_type": "code",
   "execution_count": 73,
   "metadata": {},
   "outputs": [],
   "source": [
    "#method = None\n",
    "\n",
    "#method = \"variance\"\n",
    "#selector = sklearn.feature_selection.VarianceThreshold(threshold=(0.3))\n",
    "\n",
    "#method = \"krank-svd\"\n",
    "#selector = sklearn.decomposition.TruncatedSVD(n_components=15)\n",
    "\n",
    "method = \"NMF\"\n",
    "selector = sklearn.decomposition.NMF(n_components=10)"
   ]
  },
  {
   "cell_type": "code",
   "execution_count": 74,
   "metadata": {},
   "outputs": [
    {
     "name": "stdout",
     "output_type": "stream",
     "text": [
      "(88800, 784)\n",
      "(88800, 10)\n"
     ]
    }
   ],
   "source": [
    "reduced = selector.fit_transform(data) if method is not None  else data\n",
    "print(data.shape)\n",
    "print(reduced.shape)"
   ]
  },
  {
   "cell_type": "code",
   "execution_count": 75,
   "metadata": {},
   "outputs": [
    {
     "data": {
      "text/plain": [
       "[(0, 0.009103312874038254),\n",
       " (65412, 1.07404393003565),\n",
       " (81951, 1.1630267433922208),\n",
       " (35030, 1.2369516691116147),\n",
       " (84084, 1.274611136223378),\n",
       " (2046, 1.322295837351508),\n",
       " (30740, 1.365389278980342),\n",
       " (60963, 1.3671336025238574),\n",
       " (70822, 1.37294149245441),\n",
       " (2877, 1.3797039422389763)]"
      ]
     },
     "execution_count": 75,
     "metadata": {},
     "output_type": "execute_result"
    }
   ],
   "source": [
    "# query\n",
    "q = data[0]\n",
    "if method is not None:\n",
    "    q = selector.transform([q]) \n",
    "\n",
    "results = []\n",
    "for idx, d in enumerate(reduced):\n",
    "    # euclidean distance between query and document\n",
    "    dist = np.linalg.norm(q - d)\n",
    "    results.append((idx, dist))\n",
    "\n",
    "sorted_result = sorted(results, key=lambda x: x[1])\n",
    "\n",
    "sorted_result[:10]"
   ]
  },
  {
   "cell_type": "code",
   "execution_count": 76,
   "metadata": {},
   "outputs": [],
   "source": [
    "imgs = [data[x[0]] for x in sorted_result[:100]]\n",
    "make_image_matrix(10, 10, imgs, \"imgs-{}.png\".format(method))"
   ]
  },
  {
   "cell_type": "code",
   "execution_count": null,
   "metadata": {},
   "outputs": [],
   "source": []
  }
 ],
 "metadata": {
  "kernelspec": {
   "display_name": "Python 3",
   "language": "python",
   "name": "python3"
  },
  "language_info": {
   "codemirror_mode": {
    "name": "ipython",
    "version": 3
   },
   "file_extension": ".py",
   "mimetype": "text/x-python",
   "name": "python",
   "nbconvert_exporter": "python",
   "pygments_lexer": "ipython3",
   "version": "3.7.0"
  }
 },
 "nbformat": 4,
 "nbformat_minor": 2
}
